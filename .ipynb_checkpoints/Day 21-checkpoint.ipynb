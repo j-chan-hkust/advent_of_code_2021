{
 "cells": [
  {
   "cell_type": "markdown",
   "metadata": {},
   "source": [
    "## Reflection on Day 21:\n",
    "- Part 1 was quite chill, probably quite a few things I could have worded more succintly, I really didn't need to do all this weird minus 1 stuff to deal with modulus, could have worded a much simpler function\n",
    "- However, part 2 was a real bitch until I realized that a lot of these \"world states\" were similar, and could be aggregated in a dictionary\n",
    "- This was still hard until I learned the key fundamental difference between a tuple and a list, increasing my ability to work with dictionaries and using complex states as keys\n",
    "- Essentially, a tuple is an array that contains multiple chunks of data. Because these values are fixed, it is possible to hash them and place them into a dictionary. A list is not fixed, rather it is an array of memory pointers to values. Thus, you can edit a list (by editing the value at that point of memory), and thus, you can't really hash a list (since the memory values are absolutely unique, and if you tried to sub in an \"identical\" list or tuple, you wouldn't get the same thing.\n",
    "- Despite the cleaness of the solution in my head, it's still a little messy to read, and I can see a couple of code duplications. Looking at it now, it might have been smarter to declare separate functions for these sections"
   ]
  },
  {
   "cell_type": "code",
   "execution_count": 30,
   "metadata": {},
   "outputs": [],
   "source": [
    "p1_position = 6\n",
    "p2_position = 2"
   ]
  },
  {
   "cell_type": "code",
   "execution_count": 31,
   "metadata": {},
   "outputs": [],
   "source": [
    "p1_position -= 1\n",
    "p2_position -= 1"
   ]
  },
  {
   "cell_type": "code",
   "execution_count": 32,
   "metadata": {},
   "outputs": [],
   "source": [
    "p1_score = 0\n",
    "p2_score = 0"
   ]
  },
  {
   "cell_type": "code",
   "execution_count": 33,
   "metadata": {},
   "outputs": [],
   "source": [
    "dice_state = 1"
   ]
  },
  {
   "cell_type": "code",
   "execution_count": 34,
   "metadata": {},
   "outputs": [],
   "source": [
    "def take_a_turn():\n",
    "    steps = 0\n",
    "    for i in range(3):\n",
    "        steps += dice_state\n",
    "        dice_state += 1\n",
    "    p1_position += steps\n",
    "    p1_position = p1_position%10\n",
    "    p1_score += p1_position + 1\n",
    "    \n",
    "    steps = 0\n",
    "    for i in range(3):\n",
    "        steps += dice_state\n",
    "        dice_state += 1\n",
    "    p2_position += steps\n",
    "    p2_position = p2_position%10\n",
    "    p2_score += p2_position + 1"
   ]
  },
  {
   "cell_type": "code",
   "execution_count": 35,
   "metadata": {},
   "outputs": [],
   "source": [
    "count = 0\n",
    "while p1_score <1000 and p2_score < 1000:\n",
    "    steps = 0\n",
    "    for i in range(3):\n",
    "        steps += dice_state\n",
    "        dice_state += 1\n",
    "    p1_position += steps\n",
    "    p1_position = p1_position%10\n",
    "    p1_score += p1_position + 1\n",
    "    count +=3\n",
    "    \n",
    "    if p1_score>=1000:\n",
    "        break\n",
    "    \n",
    "    steps = 0\n",
    "    for i in range(3):\n",
    "        steps += dice_state\n",
    "        dice_state += 1\n",
    "    p2_position += steps\n",
    "    p2_position = p2_position%10\n",
    "    p2_score += p2_position + 1\n",
    "    \n",
    "    count += 3"
   ]
  },
  {
   "cell_type": "code",
   "execution_count": 36,
   "metadata": {},
   "outputs": [
    {
     "data": {
      "text/plain": [
       "1005"
      ]
     },
     "execution_count": 36,
     "metadata": {},
     "output_type": "execute_result"
    }
   ],
   "source": [
    "count"
   ]
  },
  {
   "cell_type": "code",
   "execution_count": 37,
   "metadata": {},
   "outputs": [
    {
     "data": {
      "text/plain": [
       "1006"
      ]
     },
     "execution_count": 37,
     "metadata": {},
     "output_type": "execute_result"
    }
   ],
   "source": [
    "p1_score"
   ]
  },
  {
   "cell_type": "code",
   "execution_count": 38,
   "metadata": {},
   "outputs": [
    {
     "data": {
      "text/plain": [
       "922"
      ]
     },
     "execution_count": 38,
     "metadata": {},
     "output_type": "execute_result"
    }
   ],
   "source": [
    "p2_score"
   ]
  },
  {
   "cell_type": "code",
   "execution_count": 39,
   "metadata": {},
   "outputs": [
    {
     "data": {
      "text/plain": [
       "926610"
      ]
     },
     "execution_count": 39,
     "metadata": {},
     "output_type": "execute_result"
    }
   ],
   "source": [
    "count*min(p1_score,p2_score)"
   ]
  },
  {
   "cell_type": "code",
   "execution_count": 89,
   "metadata": {},
   "outputs": [],
   "source": [
    "p1_position = 6\n",
    "p2_position = 2\n",
    "p1_score = 0\n",
    "p2_score = 0\n",
    "current_turn = 'p1'"
   ]
  },
  {
   "cell_type": "code",
   "execution_count": 90,
   "metadata": {},
   "outputs": [],
   "source": [
    "current_state = (p1_position, p2_position, p1_score, p2_score, current_turn)"
   ]
  },
  {
   "cell_type": "code",
   "execution_count": 91,
   "metadata": {},
   "outputs": [
    {
     "data": {
      "text/plain": [
       "{(6, 2, 0, 0, 'p1'): 1}"
      ]
     },
     "execution_count": 91,
     "metadata": {},
     "output_type": "execute_result"
    }
   ],
   "source": [
    "worlds = {current_state:1}\n",
    "worlds"
   ]
  },
  {
   "cell_type": "markdown",
   "metadata": {},
   "source": [
    "Because we can't possibly hope to handle each different world, we need to handle everything under the structure of a \"world state\" and how many worlds are under that state.\n",
    "\n",
    "Because there will end up being many ways to end up in the same state, this can help save us a lot of memory and time.\n",
    "\n",
    "The rough flow is that for each world, we will roll 3 dice (thus generating 27 new worlds) and then group them up into a dictionary object which hashes each state to the number of worlds."
   ]
  },
  {
   "cell_type": "code",
   "execution_count": 92,
   "metadata": {},
   "outputs": [],
   "source": [
    "# takes in a dictionary of worlds, and spits out next state of worlds\n",
    "def roll_the_dice(worlds):\n",
    "    next_worlds = dict()\n",
    "    for world in worlds:\n",
    "        num_worlds = worlds[world]\n",
    "\n",
    "        if world == 'p1 wins' or world == 'p2 wins':\n",
    "            if world in next_worlds:\n",
    "                next_worlds[world] += num_worlds\n",
    "            else:\n",
    "                next_worlds[world] = num_worlds\n",
    "            continue\n",
    "        \n",
    "        curr_p1_position, curr_p2_position, curr_p1_score, curr_p2_score, curr_turn = world\n",
    "        next_p1_position, next_p2_position, next_p1_score, next_p2_score, next_turn = world\n",
    "        \n",
    "        \n",
    "        if curr_turn == 'p1':\n",
    "            for i in range (1,4):\n",
    "                for j in range(1,4):\n",
    "                    for k in range(1,4):\n",
    "                        next_p1_position, next_p2_position, next_p1_score, next_p2_score = (curr_p1_position, curr_p2_position, curr_p1_score, curr_p2_score)\n",
    "                        next_turn = 'p2'\n",
    "\n",
    "                        next_p1_position += i+j+k\n",
    "\n",
    "                        #I didn't realize I had a much cleaner implementation\n",
    "                        next_p1_position = next_p1_position-10 if next_p1_position>10 else next_p1_position\n",
    "                        next_p1_score += next_p1_position\n",
    "\n",
    "                        next_world = (next_p1_position, next_p2_position, next_p1_score, next_p2_score, next_turn)\n",
    "\n",
    "                        if next_p1_score >= 21:\n",
    "                            if 'p1 wins' in next_worlds:\n",
    "                                next_worlds['p1 wins'] += num_worlds\n",
    "                            else:\n",
    "                                next_worlds['p1 wins'] = num_worlds\n",
    "                            continue\n",
    "\n",
    "                        if next_world in next_worlds:\n",
    "                            next_worlds[next_world] += num_worlds\n",
    "                        else:\n",
    "                            next_worlds[next_world] = num_worlds\n",
    "        elif curr_turn == 'p2':\n",
    "            for i in range(1,4):\n",
    "                for j in range(1,4):\n",
    "                        for k in range(1,4):\n",
    "                            next_p1_position, next_p2_position, next_p1_score, next_p2_score = (curr_p1_position, curr_p2_position, curr_p1_score, curr_p2_score)\n",
    "                            next_turn = 'p1'\n",
    "\n",
    "                            next_p2_position += i+j+k\n",
    "\n",
    "                            #I didn't realize I had a much cleaner implementation\n",
    "                            next_p2_position = next_p2_position-10 if next_p2_position>10 else next_p2_position\n",
    "                            next_p2_score += next_p2_position\n",
    "\n",
    "                            next_world = (next_p1_position, next_p2_position, next_p1_score, next_p2_score, next_turn)\n",
    "\n",
    "                            if next_p2_score >= 21:\n",
    "                                if 'p2 wins' in next_worlds:\n",
    "                                    next_worlds['p2 wins'] += num_worlds\n",
    "                                else:\n",
    "                                    next_worlds['p2 wins'] = num_worlds\n",
    "                                continue\n",
    "\n",
    "                            if next_world in next_worlds:\n",
    "                                next_worlds[next_world] += num_worlds\n",
    "                            else:\n",
    "                                next_worlds[next_world] = num_worlds\n",
    "                    \n",
    "    return next_worlds"
   ]
  },
  {
   "cell_type": "code",
   "execution_count": 93,
   "metadata": {},
   "outputs": [],
   "source": [
    "current_worlds = worlds\n",
    "while len(current_worlds)!=2:\n",
    "    current_worlds = roll_the_dice(current_worlds)"
   ]
  },
  {
   "cell_type": "code",
   "execution_count": 94,
   "metadata": {},
   "outputs": [
    {
     "data": {
      "text/plain": [
       "{'p1 wins': 146854918035875, 'p2 wins': 143358457407936}"
      ]
     },
     "execution_count": 94,
     "metadata": {},
     "output_type": "execute_result"
    }
   ],
   "source": [
    "current_worlds"
   ]
  },
  {
   "cell_type": "code",
   "execution_count": 98,
   "metadata": {},
   "outputs": [
    {
     "data": {
      "text/plain": [
       "146854918035875"
      ]
     },
     "execution_count": 98,
     "metadata": {},
     "output_type": "execute_result"
    }
   ],
   "source": [
    "max(current_worlds.values())"
   ]
  },
  {
   "cell_type": "markdown",
   "metadata": {},
   "source": []
  }
 ],
 "metadata": {
  "kernelspec": {
   "display_name": "Python 3",
   "language": "python",
   "name": "python3"
  },
  "language_info": {
   "codemirror_mode": {
    "name": "ipython",
    "version": 3
   },
   "file_extension": ".py",
   "mimetype": "text/x-python",
   "name": "python",
   "nbconvert_exporter": "python",
   "pygments_lexer": "ipython3",
   "version": "3.7.3"
  }
 },
 "nbformat": 4,
 "nbformat_minor": 2
}
