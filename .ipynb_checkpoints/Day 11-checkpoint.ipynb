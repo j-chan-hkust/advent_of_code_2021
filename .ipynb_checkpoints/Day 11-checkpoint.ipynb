{
 "cells": [
  {
   "cell_type": "code",
   "execution_count": 70,
   "metadata": {},
   "outputs": [],
   "source": [
    "input_str = \"\"\"2566885432\n",
    "3857414357\n",
    "6761543247\n",
    "5477332114\n",
    "3731585385\n",
    "1716783173\n",
    "1277321612\n",
    "3371176148\n",
    "1162578285\n",
    "6144726367\"\"\""
   ]
  },
  {
   "cell_type": "code",
   "execution_count": 71,
   "metadata": {},
   "outputs": [],
   "source": [
    "# input_str = \"\"\"5483143223\n",
    "# 2745854711\n",
    "# 5264556173\n",
    "# 6141336146\n",
    "# 6357385478\n",
    "# 4167524645\n",
    "# 2176841721\n",
    "# 6882881134\n",
    "# 4846848554\n",
    "# 5283751526\"\"\""
   ]
  },
  {
   "cell_type": "code",
   "execution_count": 72,
   "metadata": {},
   "outputs": [],
   "source": [
    "grid = [[int(char) for char in row] for row in input_str.split()]"
   ]
  },
  {
   "cell_type": "code",
   "execution_count": 73,
   "metadata": {},
   "outputs": [
    {
     "data": {
      "text/plain": [
       "[[2, 5, 6, 6, 8, 8, 5, 4, 3, 2],\n",
       " [3, 8, 5, 7, 4, 1, 4, 3, 5, 7],\n",
       " [6, 7, 6, 1, 5, 4, 3, 2, 4, 7],\n",
       " [5, 4, 7, 7, 3, 3, 2, 1, 1, 4],\n",
       " [3, 7, 3, 1, 5, 8, 5, 3, 8, 5],\n",
       " [1, 7, 1, 6, 7, 8, 3, 1, 7, 3],\n",
       " [1, 2, 7, 7, 3, 2, 1, 6, 1, 2],\n",
       " [3, 3, 7, 1, 1, 7, 6, 1, 4, 8],\n",
       " [1, 1, 6, 2, 5, 7, 8, 2, 8, 5],\n",
       " [6, 1, 4, 4, 7, 2, 6, 3, 6, 7]]"
      ]
     },
     "execution_count": 73,
     "metadata": {},
     "output_type": "execute_result"
    }
   ],
   "source": [
    "grid"
   ]
  },
  {
   "cell_type": "code",
   "execution_count": 74,
   "metadata": {},
   "outputs": [],
   "source": [
    "def take_a_step(grid):\n",
    "    output_grid = [[cell+1 for cell in row] for row in grid]\n",
    "    flashing = True\n",
    "    flashed = 0\n",
    "    while flashing:\n",
    "        prev_flashed = flashed\n",
    "        for i in range(len(output_grid)):\n",
    "            for j in range(len(output_grid[0])):\n",
    "                if output_grid[i][j] > 9:\n",
    "                    flashed += 1\n",
    "                    for x in [-1,0,1]:\n",
    "                        for y in [-1,0,1]:\n",
    "                            if 0<=(i+x) and (i+x)<len(output_grid) and (j+y)>=0 and (j+y)<len(output_grid[0]):\n",
    "                                output_grid[i+x][j+y] += 1\n",
    "                    output_grid[i][j] = -99\n",
    "        if prev_flashed == flashed:\n",
    "            flashing = False\n",
    "    for i in range(len(output_grid)):\n",
    "        for j in range(len(output_grid[0])):\n",
    "            if output_grid[i][j]<0:\n",
    "                output_grid[i][j] = 0\n",
    "    return output_grid, flashed"
   ]
  },
  {
   "cell_type": "code",
   "execution_count": 75,
   "metadata": {},
   "outputs": [],
   "source": [
    "flashes = 0\n",
    "for i in range(100):\n",
    "    grid, flashed = take_a_step(grid)\n",
    "    flashes += flashed"
   ]
  },
  {
   "cell_type": "code",
   "execution_count": 76,
   "metadata": {},
   "outputs": [
    {
     "data": {
      "text/plain": [
       "1647"
      ]
     },
     "execution_count": 76,
     "metadata": {},
     "output_type": "execute_result"
    }
   ],
   "source": [
    "flashes"
   ]
  },
  {
   "cell_type": "code",
   "execution_count": 77,
   "metadata": {},
   "outputs": [],
   "source": [
    "all_flashed = False\n",
    "count = 100\n",
    "while not all_flashed:\n",
    "    count += 1\n",
    "    grid, flashed = take_a_step(grid)\n",
    "    if flashed >= len(grid)*len(grid[0]):\n",
    "        all_flashed = True"
   ]
  },
  {
   "cell_type": "code",
   "execution_count": 78,
   "metadata": {},
   "outputs": [
    {
     "data": {
      "text/plain": [
       "348"
      ]
     },
     "execution_count": 78,
     "metadata": {},
     "output_type": "execute_result"
    }
   ],
   "source": [
    "count"
   ]
  },
  {
   "cell_type": "markdown",
   "metadata": {},
   "source": [
    "Reflection:\n",
    "- figured out a much easier conversion from a string grid into a numerical int grid\n",
    "- nice happy process of debugging my step function until it started doing the correct thing. Only took about 15 minutes to refine and complete.\n",
    "- No real issues, but I suspect there may be a smarter way to do part 2 in a non-naive way."
   ]
  }
 ],
 "metadata": {
  "kernelspec": {
   "display_name": "Python 3",
   "language": "python",
   "name": "python3"
  },
  "language_info": {
   "codemirror_mode": {
    "name": "ipython",
    "version": 3
   },
   "file_extension": ".py",
   "mimetype": "text/x-python",
   "name": "python",
   "nbconvert_exporter": "python",
   "pygments_lexer": "ipython3",
   "version": "3.7.3"
  }
 },
 "nbformat": 4,
 "nbformat_minor": 2
}
