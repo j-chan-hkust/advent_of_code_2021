{
 "cells": [
  {
   "cell_type": "code",
   "execution_count": 1,
   "metadata": {},
   "outputs": [],
   "source": [
    "input_str = \"\"\"[1,[[3,6],[0,[6,3]]]]\n",
    "[[[5,2],[[5,0],6]],[6,[5,1]]]\n",
    "[[5,[[2,3],[7,1]]],[4,[9,[8,3]]]]\n",
    "[[8,[[3,4],[8,7]]],[[[4,0],[3,5]],[[0,1],6]]]\n",
    "[[1,[6,[9,0]]],[[7,[5,7]],[[8,9],3]]]\n",
    "[[[[6,7],[4,9]],7],9]\n",
    "[[7,3],[[8,9],[7,[4,2]]]]\n",
    "[[[4,[2,9]],[0,3]],[[4,[0,8]],[[4,4],3]]]\n",
    "[[[[6,9],9],8],[[[4,0],[1,6]],[4,[3,6]]]]\n",
    "[[4,[4,[3,3]]],[[2,1],[[6,1],[9,4]]]]\n",
    "[[5,[6,7]],[[[5,8],[4,3]],[4,[0,8]]]]\n",
    "[[6,[[9,6],5]],[0,[6,6]]]\n",
    "[[[[1,5],9],[[5,3],5]],[[[2,0],3],9]]\n",
    "[4,3]\n",
    "[[1,8],[[[1,0],[3,8]],3]]\n",
    "[[[[2,0],[6,5]],4],[[[9,8],[0,1]],3]]\n",
    "[[8,[7,8]],[[6,[3,2]],[[8,1],[7,5]]]]\n",
    "[[[[1,4],2],[[4,8],[3,2]]],[[[2,2],6],6]]\n",
    "[[[4,[0,5]],[[8,8],[7,2]]],[[4,[4,1]],2]]\n",
    "[[1,[4,[4,0]]],[2,[[2,3],1]]]\n",
    "[[[[2,1],0],[[3,4],1]],[[2,4],3]]\n",
    "[[9,[8,7]],[7,[0,[8,0]]]]\n",
    "[[[9,9],7],[[0,[2,1]],[[7,1],4]]]\n",
    "[[6,[[3,2],[0,0]]],[[[4,1],9],[7,3]]]\n",
    "[[[5,[5,6]],[[7,7],[7,8]]],4]\n",
    "[[8,[[4,1],4]],[[[6,4],[0,3]],[5,[6,4]]]]\n",
    "[[[9,0],[2,8]],[[6,5],5]]\n",
    "[[[3,[1,6]],[[5,3],6]],[[[7,4],[4,9]],[[2,3],[6,5]]]]\n",
    "[[8,[6,7]],6]\n",
    "[[[[6,0],[1,3]],[0,0]],[[[4,7],[7,8]],[[7,2],2]]]\n",
    "[[6,[[9,6],[1,1]]],7]\n",
    "[[[2,3],[6,0]],[3,[[9,3],9]]]\n",
    "[[[3,0],0],[[[6,0],3],[[1,5],4]]]\n",
    "[[8,[[0,3],8]],[[[0,8],[4,3]],[8,[3,4]]]]\n",
    "[[[4,4],0],[[1,[8,0]],[[9,6],3]]]\n",
    "[8,[[6,[6,7]],[8,7]]]\n",
    "[[8,[0,[1,4]]],3]\n",
    "[[[[9,5],0],[[5,3],[1,9]]],[[[7,3],5],[[4,3],9]]]\n",
    "[[[[9,0],[4,2]],[0,[3,2]]],1]\n",
    "[[[6,[4,2]],[[5,5],9]],[[[6,1],9],[[3,8],[8,1]]]]\n",
    "[[[3,[5,0]],[[5,2],[2,2]]],[[0,2],[7,4]]]\n",
    "[[3,[[5,7],[2,8]]],4]\n",
    "[[[4,8],5],0]\n",
    "[[[6,9],[[7,0],7]],[8,7]]\n",
    "[[7,[[1,3],[0,2]]],[[[4,8],0],[[7,0],6]]]\n",
    "[[[1,7],[6,6]],[[6,[4,0]],[0,4]]]\n",
    "[[[[2,2],[3,9]],9],3]\n",
    "[0,[[4,9],[[5,5],[5,9]]]]\n",
    "[[[[4,4],2],[6,4]],[[[4,1],[2,0]],[[9,4],0]]]\n",
    "[[[0,[3,4]],[2,3]],[[7,[2,3]],[3,3]]]\n",
    "[[[[0,3],9],7],[7,[4,[9,6]]]]\n",
    "[[9,[[0,8],4]],[5,[2,[4,9]]]]\n",
    "[[6,2],[[1,7],0]]\n",
    "[[[[1,6],[8,3]],1],[[[6,7],2],[[4,4],8]]]\n",
    "[[[[7,1],[0,3]],0],[5,[4,[8,4]]]]\n",
    "[[[[4,2],[6,2]],[[5,7],8]],[[7,9],4]]\n",
    "[[[0,[0,4]],5],2]\n",
    "[[2,[[0,6],6]],[[[3,4],3],[4,5]]]\n",
    "[[[[6,4],9],[[7,1],0]],[[[8,2],[3,2]],[[1,9],7]]]\n",
    "[7,[[7,8],[[5,5],0]]]\n",
    "[[[1,2],[8,5]],[[5,4],[8,0]]]\n",
    "[[4,[1,3]],[[[4,5],[1,2]],[5,1]]]\n",
    "[[[[0,7],[4,5]],[9,[2,2]]],[4,[[1,8],[7,5]]]]\n",
    "[[4,[[0,4],[8,8]]],[[[9,2],[7,1]],[8,[9,5]]]]\n",
    "[1,3]\n",
    "[[[[8,9],5],0],[1,6]]\n",
    "[[[[6,6],[3,5]],[[2,8],[3,3]]],[[[5,3],[5,9]],[0,[1,4]]]]\n",
    "[[7,[7,[5,5]]],[4,[4,[9,9]]]]\n",
    "[[[7,[6,7]],[4,2]],[0,[[7,8],1]]]\n",
    "[[[[6,0],4],[3,[6,9]]],5]\n",
    "[[[[9,8],6],[[7,4],[3,4]]],[[[8,8],[2,1]],0]]\n",
    "[9,[[1,7],[7,1]]]\n",
    "[6,[[3,[3,6]],[2,9]]]\n",
    "[[[6,9],[[1,4],2]],[7,3]]\n",
    "[[1,[6,[8,5]]],[[[0,0],0],[7,2]]]\n",
    "[[[4,[2,7]],[[0,0],8]],[[4,[4,5]],[[4,8],[3,3]]]]\n",
    "[[[[7,4],[7,5]],[[5,8],3]],[[[6,9],[0,9]],[[7,2],[4,0]]]]\n",
    "[4,[4,[9,[5,7]]]]\n",
    "[[[[8,7],3],[6,[0,5]]],[[[7,8],[5,1]],[[0,4],2]]]\n",
    "[6,[0,[4,3]]]\n",
    "[[[[6,5],3],7],[[[0,1],5],[6,[2,6]]]]\n",
    "[[[9,1],[[8,8],[8,2]]],0]\n",
    "[[[[3,4],1],3],[8,[[1,5],[5,6]]]]\n",
    "[[[[6,8],2],4],[[5,8],[[1,5],[7,0]]]]\n",
    "[[3,8],[[[9,0],2],[7,[5,8]]]]\n",
    "[[[[7,5],6],[[4,4],[5,0]]],[4,[3,[3,0]]]]\n",
    "[[[7,9],[1,[8,8]]],[[[6,8],4],4]]\n",
    "[[4,[[6,7],[5,7]]],[6,7]]\n",
    "[[[[8,8],[0,4]],[[5,5],1]],6]\n",
    "[[[7,7],[[5,8],[3,4]]],[[0,[7,4]],5]]\n",
    "[8,[[1,2],[6,9]]]\n",
    "[[[[9,5],[0,6]],[2,[8,7]]],[[[9,2],4],6]]\n",
    "[[[1,[5,2]],5],[[1,0],3]]\n",
    "[[7,[7,[3,7]]],[[2,6],3]]\n",
    "[1,[[8,[7,1]],[3,8]]]\n",
    "[[[[3,2],[5,6]],2],[7,[0,0]]]\n",
    "[[[7,[4,6]],[9,[7,8]]],9]\n",
    "[[[[4,3],9],8],[[8,5],6]]\n",
    "[3,[[3,1],[[8,4],8]]]\n",
    "[[[9,[3,5]],[[0,9],[8,5]]],5]\"\"\""
   ]
  },
  {
   "cell_type": "code",
   "execution_count": 2,
   "metadata": {},
   "outputs": [],
   "source": [
    "input_str = \"\"\"[1,1]\n",
    "[2,2]\n",
    "[3,3]\n",
    "[4,4]\n",
    "[5,5]\"\"\""
   ]
  },
  {
   "cell_type": "code",
   "execution_count": 3,
   "metadata": {},
   "outputs": [],
   "source": [
    "snail_numbers = input_str.split()"
   ]
  },
  {
   "cell_type": "code",
   "execution_count": 4,
   "metadata": {},
   "outputs": [
    {
     "data": {
      "text/plain": [
       "['[1,1]', '[2,2]', '[3,3]', '[4,4]', '[5,5]']"
      ]
     },
     "execution_count": 4,
     "metadata": {},
     "output_type": "execute_result"
    }
   ],
   "source": [
    "snail_numbers"
   ]
  },
  {
   "cell_type": "code",
   "execution_count": 6,
   "metadata": {},
   "outputs": [],
   "source": [
    "def snail_add(snail_num1, snail_num2):\n",
    "    return '['+snail_num1+','+snail_num2+']'"
   ]
  },
  {
   "cell_type": "code",
   "execution_count": 7,
   "metadata": {},
   "outputs": [
    {
     "data": {
      "text/plain": [
       "'[[1,1],[2,2]]'"
      ]
     },
     "execution_count": 7,
     "metadata": {},
     "output_type": "execute_result"
    }
   ],
   "source": [
    "snail_add(snail_numbers[0],snail_numbers[1])"
   ]
  },
  {
   "cell_type": "code",
   "execution_count": 8,
   "metadata": {},
   "outputs": [],
   "source": [
    "def snail_step_reduce(snail_num):\n",
    "    # check for explosion\n",
    "    bracket_count = 0\n",
    "    for i in range(len(snail_num)):\n",
    "        char = snail_num[i]\n",
    "        if char == '[':\n",
    "            bracket_count += 1\n",
    "        if char == ']':\n",
    "            bracket_count -= 1\n",
    "        # note we make the assumption here that there will never be more than 5 bracket depth\n",
    "        # if this is false, stuff will break here.  \n",
    "        if bracket_count>4:\n",
    "            return explode(snail_num,i)\n",
    "    \n",
    "    for i in range(len(snail_num)-1):\n",
    "        if snail_num[i].isdigit():\n",
    "            if snail_num[i+1].isdigit():\n",
    "                return split(snail_num, i)\n",
    "            "
   ]
  },
  {
   "cell_type": "code",
   "execution_count": 14,
   "metadata": {},
   "outputs": [],
   "source": [
    "import math\n",
    "\n",
    "#this won't fail elegantly but whatever\n",
    "def split(snail_num,i):\n",
    "    num = int(snail_num[i:i+2])\n",
    "    a = math.floor(num/2)\n",
    "    b = math.ceil(num/2)\n",
    "    return snail_num[:i] + '[' + str(a) + ',' + str(b) + ']' + snail_num[i+2:]"
   ]
  },
  {
   "cell_type": "code",
   "execution_count": 46,
   "metadata": {},
   "outputs": [],
   "source": [
    "def explode(snail_num,i):\n",
    "    #I make the assumption that all \"exploded numbers\" wont be double digit, \n",
    "    # and they don't add to double digit numbers. If something breaks, it should be this\n",
    "    a = int(snail_num[i+1])\n",
    "    b = int(snail_num[i+3])\n",
    "    left_stuff = snail_num[:i]\n",
    "    right_stuff = snail_num[i+5:]\n",
    "    x = i-1\n",
    "    y = 0\n",
    "    while not left_stuff[x].isdigit():\n",
    "        x -= 1\n",
    "        if x == -1:\n",
    "            #deal with the fail case here\n",
    "            break\n",
    "    \n",
    "    if x == -1:\n",
    "        left_stuff += '0'\n",
    "    else:\n",
    "        left_digit = int(left_stuff[x])\n",
    "        left_digit += a\n",
    "        left_stuff = left_stuff[:x] + str(left_digit) + left_stuff[x+1:]\n",
    "    \n",
    "    while not right_stuff[y].isdigit():\n",
    "        y += 1\n",
    "        if y >= len(right_stuff):\n",
    "            #deal with the fail case here\n",
    "            break\n",
    "            \n",
    "    \n",
    "    if y >= len(right_stuff):\n",
    "        right_stuff = '0' + right_stuff\n",
    "    else:\n",
    "        right_digit = int(right_stuff[y])\n",
    "        right_digit += b\n",
    "        print(right_digit)\n",
    "        right_stuff = right_stuff[:y] + str(right_digit) + right_stuff[y+1:]\n",
    "    return left_stuff+right_stuff"
   ]
  },
  {
   "cell_type": "code",
   "execution_count": null,
   "metadata": {},
   "outputs": [],
   "source": []
  },
  {
   "cell_type": "code",
   "execution_count": 47,
   "metadata": {},
   "outputs": [
    {
     "name": "stdout",
     "output_type": "stream",
     "text": [
      "9\n"
     ]
    },
    {
     "data": {
      "text/plain": [
       "'[[[[0,9],2],3],4]'"
      ]
     },
     "execution_count": 47,
     "metadata": {},
     "output_type": "execute_result"
    }
   ],
   "source": [
    "explode(\"[[[[[9,8],1],2],3],4]\",4)"
   ]
  },
  {
   "cell_type": "code",
   "execution_count": null,
   "metadata": {},
   "outputs": [],
   "source": []
  },
  {
   "cell_type": "code",
   "execution_count": null,
   "metadata": {},
   "outputs": [],
   "source": []
  },
  {
   "cell_type": "code",
   "execution_count": null,
   "metadata": {},
   "outputs": [],
   "source": []
  },
  {
   "cell_type": "code",
   "execution_count": null,
   "metadata": {},
   "outputs": [],
   "source": []
  },
  {
   "cell_type": "code",
   "execution_count": 20,
   "metadata": {},
   "outputs": [
    {
     "data": {
      "text/plain": [
       "'0'"
      ]
     },
     "execution_count": 20,
     "metadata": {},
     "output_type": "execute_result"
    }
   ],
   "source": [
    "s[:1]"
   ]
  },
  {
   "cell_type": "code",
   "execution_count": null,
   "metadata": {},
   "outputs": [],
   "source": []
  },
  {
   "cell_type": "code",
   "execution_count": null,
   "metadata": {},
   "outputs": [],
   "source": []
  },
  {
   "cell_type": "code",
   "execution_count": 17,
   "metadata": {},
   "outputs": [
    {
     "data": {
      "text/plain": [
       "'0'"
      ]
     },
     "execution_count": 17,
     "metadata": {},
     "output_type": "execute_result"
    }
   ],
   "source": [
    "s[:1]"
   ]
  },
  {
   "cell_type": "code",
   "execution_count": null,
   "metadata": {},
   "outputs": [],
   "source": []
  },
  {
   "cell_type": "code",
   "execution_count": null,
   "metadata": {},
   "outputs": [],
   "source": []
  },
  {
   "cell_type": "code",
   "execution_count": 13,
   "metadata": {},
   "outputs": [
    {
     "data": {
      "text/plain": [
       "'12'"
      ]
     },
     "execution_count": 13,
     "metadata": {},
     "output_type": "execute_result"
    }
   ],
   "source": [
    "s[1:3]"
   ]
  },
  {
   "cell_type": "code",
   "execution_count": null,
   "metadata": {},
   "outputs": [],
   "source": [
    "    "
   ]
  },
  {
   "cell_type": "code",
   "execution_count": null,
   "metadata": {},
   "outputs": [],
   "source": []
  },
  {
   "cell_type": "code",
   "execution_count": null,
   "metadata": {},
   "outputs": [],
   "source": []
  }
 ],
 "metadata": {
  "kernelspec": {
   "display_name": "Python 3",
   "language": "python",
   "name": "python3"
  },
  "language_info": {
   "codemirror_mode": {
    "name": "ipython",
    "version": 3
   },
   "file_extension": ".py",
   "mimetype": "text/x-python",
   "name": "python",
   "nbconvert_exporter": "python",
   "pygments_lexer": "ipython3",
   "version": "3.7.3"
  }
 },
 "nbformat": 4,
 "nbformat_minor": 2
}
