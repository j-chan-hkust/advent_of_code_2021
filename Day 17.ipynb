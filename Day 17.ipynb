{
 "cells": [
  {
   "cell_type": "code",
   "execution_count": 1,
   "metadata": {},
   "outputs": [],
   "source": [
    "input_str = \"\"\"target area: x=240..292, y=-90..-57\"\"\""
   ]
  },
  {
   "cell_type": "code",
   "execution_count": 84,
   "metadata": {},
   "outputs": [],
   "source": [
    "x_range = [240,292]"
   ]
  },
  {
   "cell_type": "code",
   "execution_count": 83,
   "metadata": {},
   "outputs": [],
   "source": [
    "y_range = [-90,-57]"
   ]
  },
  {
   "cell_type": "markdown",
   "metadata": {},
   "source": [
    "thoughts:\n",
    "- the x speed isn't important here, what's important is the height of the target area, and the speed the system develops before reaching it."
   ]
  },
  {
   "cell_type": "code",
   "execution_count": 26,
   "metadata": {},
   "outputs": [
    {
     "data": {
      "text/plain": [
       "33"
      ]
     },
     "execution_count": 26,
     "metadata": {},
     "output_type": "execute_result"
    }
   ],
   "source": [
    "y_range[1]-y_range[0]"
   ]
  },
  {
   "cell_type": "markdown",
   "metadata": {},
   "source": [
    "Thus the max speed reached is 33 when it gets to the target. If the speed is 34, then it will be much too fast.\n",
    "You know what, I'm just gonna *brute force* it"
   ]
  },
  {
   "cell_type": "code",
   "execution_count": 95,
   "metadata": {},
   "outputs": [],
   "source": [
    "max_speed = 0\n",
    "for speed in range(-300,300):\n",
    "    current_speed = speed\n",
    "    current_position = 0\n",
    "    while current_position>y_range[0]:\n",
    "        current_position += current_speed\n",
    "        current_speed -= 1\n",
    "        if current_position<=y_range[1] and current_position>=y_range[0]:\n",
    "            max_speed = speed"
   ]
  },
  {
   "cell_type": "code",
   "execution_count": 96,
   "metadata": {},
   "outputs": [
    {
     "data": {
      "text/plain": [
       "89"
      ]
     },
     "execution_count": 96,
     "metadata": {},
     "output_type": "execute_result"
    }
   ],
   "source": [
    "max_speed"
   ]
  },
  {
   "cell_type": "code",
   "execution_count": 97,
   "metadata": {},
   "outputs": [
    {
     "data": {
      "text/plain": [
       "4005"
      ]
     },
     "execution_count": 97,
     "metadata": {},
     "output_type": "execute_result"
    }
   ],
   "source": [
    "sum(range(max_speed+1))"
   ]
  },
  {
   "cell_type": "code",
   "execution_count": 98,
   "metadata": {},
   "outputs": [],
   "source": [
    "count = 0\n",
    "for x_speed in range(400):\n",
    "    for y_speed in range(-200,200):\n",
    "        current_x_speed = x_speed\n",
    "        current_y_speed = y_speed\n",
    "        current_x_position = 0\n",
    "        current_y_position = 0\n",
    "        while current_y_position>y_range[0]:\n",
    "            current_x_position += current_x_speed\n",
    "            current_y_position += current_y_speed\n",
    "            current_y_speed -= 1\n",
    "            if current_x_speed>0:\n",
    "                current_x_speed -= 1\n",
    "            if current_y_position<=y_range[1] and current_y_position>=y_range[0] and current_x_position>=x_range[0] and current_x_position<=x_range[1]:\n",
    "                count += 1\n",
    "                break\n",
    "            if current_x_speed == 0 and current_x_position<x_range[0]:\n",
    "                break"
   ]
  },
  {
   "cell_type": "code",
   "execution_count": 94,
   "metadata": {},
   "outputs": [
    {
     "data": {
      "text/plain": [
       "2953"
      ]
     },
     "execution_count": 94,
     "metadata": {},
     "output_type": "execute_result"
    }
   ],
   "source": [
    "count"
   ]
  },
  {
   "cell_type": "markdown",
   "metadata": {},
   "source": [
    "lol this was a pretty awful day. I pretty much just brute force smashed in the approach, and a lot of the test ranges were hard coded in haha....\n",
    "There's probably a good, generic and efficient method, just not needed for this week."
   ]
  },
  {
   "cell_type": "code",
   "execution_count": null,
   "metadata": {},
   "outputs": [],
   "source": []
  }
 ],
 "metadata": {
  "kernelspec": {
   "display_name": "Python 3",
   "language": "python",
   "name": "python3"
  },
  "language_info": {
   "codemirror_mode": {
    "name": "ipython",
    "version": 3
   },
   "file_extension": ".py",
   "mimetype": "text/x-python",
   "name": "python",
   "nbconvert_exporter": "python",
   "pygments_lexer": "ipython3",
   "version": "3.7.3"
  }
 },
 "nbformat": 4,
 "nbformat_minor": 2
}
