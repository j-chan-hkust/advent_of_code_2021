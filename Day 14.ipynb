{
 "cells": [
  {
   "cell_type": "code",
   "execution_count": 107,
   "metadata": {},
   "outputs": [],
   "source": [
    "input_str = \"\"\"OFSNKKHCBSNKBKFFCVNB\n",
    "\n",
    "KC -> F\n",
    "CO -> S\n",
    "FH -> K\n",
    "VP -> P\n",
    "KF -> S\n",
    "SV -> O\n",
    "CB -> H\n",
    "PN -> F\n",
    "NC -> N\n",
    "BC -> F\n",
    "NP -> O\n",
    "SK -> F\n",
    "HS -> C\n",
    "SN -> V\n",
    "OP -> F\n",
    "ON -> N\n",
    "FK -> N\n",
    "SH -> B\n",
    "HN -> N\n",
    "BO -> V\n",
    "VK -> H\n",
    "SC -> K\n",
    "KP -> O\n",
    "VO -> V\n",
    "HC -> P\n",
    "BK -> B\n",
    "VH -> N\n",
    "PV -> O\n",
    "HB -> H\n",
    "VS -> F\n",
    "KK -> B\n",
    "HH -> B\n",
    "CF -> F\n",
    "PH -> C\n",
    "NS -> V\n",
    "SO -> P\n",
    "NV -> K\n",
    "BP -> N\n",
    "SF -> V\n",
    "SS -> K\n",
    "FP -> N\n",
    "PC -> S\n",
    "OH -> B\n",
    "CH -> H\n",
    "VV -> S\n",
    "VN -> O\n",
    "OB -> K\n",
    "PF -> H\n",
    "CS -> C\n",
    "PP -> O\n",
    "NF -> H\n",
    "SP -> P\n",
    "OS -> V\n",
    "BB -> P\n",
    "NO -> F\n",
    "VB -> V\n",
    "HK -> C\n",
    "NK -> O\n",
    "HP -> B\n",
    "HV -> V\n",
    "BF -> V\n",
    "KO -> F\n",
    "BV -> H\n",
    "KV -> B\n",
    "OF -> V\n",
    "NB -> F\n",
    "VF -> C\n",
    "PB -> B\n",
    "FF -> H\n",
    "CP -> C\n",
    "KH -> H\n",
    "NH -> P\n",
    "PS -> P\n",
    "PK -> P\n",
    "CC -> K\n",
    "BS -> V\n",
    "SB -> K\n",
    "OO -> B\n",
    "OK -> F\n",
    "BH -> B\n",
    "CV -> F\n",
    "FN -> V\n",
    "CN -> P\n",
    "KB -> B\n",
    "FO -> H\n",
    "PO -> S\n",
    "HO -> H\n",
    "CK -> B\n",
    "KN -> C\n",
    "FS -> K\n",
    "OC -> P\n",
    "FV -> N\n",
    "OV -> K\n",
    "BN -> H\n",
    "HF -> V\n",
    "VC -> S\n",
    "FB -> S\n",
    "NN -> P\n",
    "FC -> B\n",
    "KS -> N\"\"\""
   ]
  },
  {
   "cell_type": "code",
   "execution_count": 57,
   "metadata": {},
   "outputs": [],
   "source": [
    "input_str = \"\"\"NNCB\n",
    "\n",
    "CH -> B\n",
    "HH -> N\n",
    "CB -> H\n",
    "NH -> C\n",
    "HB -> C\n",
    "HC -> B\n",
    "HN -> C\n",
    "NN -> C\n",
    "BH -> H\n",
    "NC -> B\n",
    "NB -> B\n",
    "BN -> B\n",
    "BB -> N\n",
    "BC -> B\n",
    "CC -> N\n",
    "CN -> C\"\"\""
   ]
  },
  {
   "cell_type": "code",
   "execution_count": 108,
   "metadata": {},
   "outputs": [],
   "source": [
    "initial, rules = input_str.split('\\n\\n')"
   ]
  },
  {
   "cell_type": "code",
   "execution_count": 109,
   "metadata": {},
   "outputs": [],
   "source": [
    "rules = {rule.split(' -> ')[0]: rule.split(' -> ')[1] for rule in rules.split('\\n')}"
   ]
  },
  {
   "cell_type": "code",
   "execution_count": 110,
   "metadata": {},
   "outputs": [
    {
     "data": {
      "text/plain": [
       "{'KC': 'F',\n",
       " 'CO': 'S',\n",
       " 'FH': 'K',\n",
       " 'VP': 'P',\n",
       " 'KF': 'S',\n",
       " 'SV': 'O',\n",
       " 'CB': 'H',\n",
       " 'PN': 'F',\n",
       " 'NC': 'N',\n",
       " 'BC': 'F',\n",
       " 'NP': 'O',\n",
       " 'SK': 'F',\n",
       " 'HS': 'C',\n",
       " 'SN': 'V',\n",
       " 'OP': 'F',\n",
       " 'ON': 'N',\n",
       " 'FK': 'N',\n",
       " 'SH': 'B',\n",
       " 'HN': 'N',\n",
       " 'BO': 'V',\n",
       " 'VK': 'H',\n",
       " 'SC': 'K',\n",
       " 'KP': 'O',\n",
       " 'VO': 'V',\n",
       " 'HC': 'P',\n",
       " 'BK': 'B',\n",
       " 'VH': 'N',\n",
       " 'PV': 'O',\n",
       " 'HB': 'H',\n",
       " 'VS': 'F',\n",
       " 'KK': 'B',\n",
       " 'HH': 'B',\n",
       " 'CF': 'F',\n",
       " 'PH': 'C',\n",
       " 'NS': 'V',\n",
       " 'SO': 'P',\n",
       " 'NV': 'K',\n",
       " 'BP': 'N',\n",
       " 'SF': 'V',\n",
       " 'SS': 'K',\n",
       " 'FP': 'N',\n",
       " 'PC': 'S',\n",
       " 'OH': 'B',\n",
       " 'CH': 'H',\n",
       " 'VV': 'S',\n",
       " 'VN': 'O',\n",
       " 'OB': 'K',\n",
       " 'PF': 'H',\n",
       " 'CS': 'C',\n",
       " 'PP': 'O',\n",
       " 'NF': 'H',\n",
       " 'SP': 'P',\n",
       " 'OS': 'V',\n",
       " 'BB': 'P',\n",
       " 'NO': 'F',\n",
       " 'VB': 'V',\n",
       " 'HK': 'C',\n",
       " 'NK': 'O',\n",
       " 'HP': 'B',\n",
       " 'HV': 'V',\n",
       " 'BF': 'V',\n",
       " 'KO': 'F',\n",
       " 'BV': 'H',\n",
       " 'KV': 'B',\n",
       " 'OF': 'V',\n",
       " 'NB': 'F',\n",
       " 'VF': 'C',\n",
       " 'PB': 'B',\n",
       " 'FF': 'H',\n",
       " 'CP': 'C',\n",
       " 'KH': 'H',\n",
       " 'NH': 'P',\n",
       " 'PS': 'P',\n",
       " 'PK': 'P',\n",
       " 'CC': 'K',\n",
       " 'BS': 'V',\n",
       " 'SB': 'K',\n",
       " 'OO': 'B',\n",
       " 'OK': 'F',\n",
       " 'BH': 'B',\n",
       " 'CV': 'F',\n",
       " 'FN': 'V',\n",
       " 'CN': 'P',\n",
       " 'KB': 'B',\n",
       " 'FO': 'H',\n",
       " 'PO': 'S',\n",
       " 'HO': 'H',\n",
       " 'CK': 'B',\n",
       " 'KN': 'C',\n",
       " 'FS': 'K',\n",
       " 'OC': 'P',\n",
       " 'FV': 'N',\n",
       " 'OV': 'K',\n",
       " 'BN': 'H',\n",
       " 'HF': 'V',\n",
       " 'VC': 'S',\n",
       " 'FB': 'S',\n",
       " 'NN': 'P',\n",
       " 'FC': 'B',\n",
       " 'KS': 'N'}"
      ]
     },
     "execution_count": 110,
     "metadata": {},
     "output_type": "execute_result"
    }
   ],
   "source": [
    "rules"
   ]
  },
  {
   "cell_type": "code",
   "execution_count": 111,
   "metadata": {},
   "outputs": [],
   "source": [
    "def take_a_step(chain, rules):\n",
    "    output = ''\n",
    "    for i in range(len(chain)-1):\n",
    "        output += chain[i]\n",
    "        output += rules[chain[i:i+2]]\n",
    "    output += chain[-1]\n",
    "    return output"
   ]
  },
  {
   "cell_type": "code",
   "execution_count": 112,
   "metadata": {},
   "outputs": [],
   "source": [
    "current_chain = initial\n",
    "for i in range(10):\n",
    "    current_chain = take_a_step(current_chain, rules)"
   ]
  },
  {
   "cell_type": "code",
   "execution_count": 113,
   "metadata": {},
   "outputs": [
    {
     "name": "stdout",
     "output_type": "stream",
     "text": [
      "Counter({'B': 3523, 'F': 2485, 'H': 2426, 'P': 2380, 'N': 2197, 'V': 1984, 'O': 1579, 'K': 1122, 'S': 1006, 'C': 755})\n"
     ]
    }
   ],
   "source": [
    "from collections import Counter\n",
    "counter = Counter(current_chain)\n",
    "print(counter)"
   ]
  },
  {
   "cell_type": "code",
   "execution_count": 114,
   "metadata": {},
   "outputs": [],
   "source": [
    "counts = sorted([counter[key] for key in counter])"
   ]
  },
  {
   "cell_type": "code",
   "execution_count": 115,
   "metadata": {},
   "outputs": [
    {
     "data": {
      "text/plain": [
       "2768"
      ]
     },
     "execution_count": 115,
     "metadata": {},
     "output_type": "execute_result"
    }
   ],
   "source": [
    "counts[-1]-counts[0]"
   ]
  },
  {
   "cell_type": "code",
   "execution_count": 116,
   "metadata": {},
   "outputs": [],
   "source": [
    "current_chain = initial\n",
    "for i in range(40):\n",
    "    continue\n",
    "    print(i)\n",
    "#     current_chain = take_a_step(current_chain, rules)"
   ]
  },
  {
   "cell_type": "markdown",
   "metadata": {},
   "source": [
    "so with a quickback of napkin calculation, the number of characters double after every iteration. 2^40 bytes is like 1 terabytes, and while this is probably doable on a super computer, i dont have the money to rent that thing. Therefore, we must use a better method "
   ]
  },
  {
   "cell_type": "code",
   "execution_count": 117,
   "metadata": {},
   "outputs": [],
   "source": [
    "# lets model everything as pairs\n",
    "pairs = {key:0 for key in rules}"
   ]
  },
  {
   "cell_type": "code",
   "execution_count": 118,
   "metadata": {},
   "outputs": [
    {
     "data": {
      "text/plain": [
       "{'KC': 0,\n",
       " 'CO': 0,\n",
       " 'FH': 0,\n",
       " 'VP': 0,\n",
       " 'KF': 0,\n",
       " 'SV': 0,\n",
       " 'CB': 0,\n",
       " 'PN': 0,\n",
       " 'NC': 0,\n",
       " 'BC': 0,\n",
       " 'NP': 0,\n",
       " 'SK': 0,\n",
       " 'HS': 0,\n",
       " 'SN': 0,\n",
       " 'OP': 0,\n",
       " 'ON': 0,\n",
       " 'FK': 0,\n",
       " 'SH': 0,\n",
       " 'HN': 0,\n",
       " 'BO': 0,\n",
       " 'VK': 0,\n",
       " 'SC': 0,\n",
       " 'KP': 0,\n",
       " 'VO': 0,\n",
       " 'HC': 0,\n",
       " 'BK': 0,\n",
       " 'VH': 0,\n",
       " 'PV': 0,\n",
       " 'HB': 0,\n",
       " 'VS': 0,\n",
       " 'KK': 0,\n",
       " 'HH': 0,\n",
       " 'CF': 0,\n",
       " 'PH': 0,\n",
       " 'NS': 0,\n",
       " 'SO': 0,\n",
       " 'NV': 0,\n",
       " 'BP': 0,\n",
       " 'SF': 0,\n",
       " 'SS': 0,\n",
       " 'FP': 0,\n",
       " 'PC': 0,\n",
       " 'OH': 0,\n",
       " 'CH': 0,\n",
       " 'VV': 0,\n",
       " 'VN': 0,\n",
       " 'OB': 0,\n",
       " 'PF': 0,\n",
       " 'CS': 0,\n",
       " 'PP': 0,\n",
       " 'NF': 0,\n",
       " 'SP': 0,\n",
       " 'OS': 0,\n",
       " 'BB': 0,\n",
       " 'NO': 0,\n",
       " 'VB': 0,\n",
       " 'HK': 0,\n",
       " 'NK': 0,\n",
       " 'HP': 0,\n",
       " 'HV': 0,\n",
       " 'BF': 0,\n",
       " 'KO': 0,\n",
       " 'BV': 0,\n",
       " 'KV': 0,\n",
       " 'OF': 0,\n",
       " 'NB': 0,\n",
       " 'VF': 0,\n",
       " 'PB': 0,\n",
       " 'FF': 0,\n",
       " 'CP': 0,\n",
       " 'KH': 0,\n",
       " 'NH': 0,\n",
       " 'PS': 0,\n",
       " 'PK': 0,\n",
       " 'CC': 0,\n",
       " 'BS': 0,\n",
       " 'SB': 0,\n",
       " 'OO': 0,\n",
       " 'OK': 0,\n",
       " 'BH': 0,\n",
       " 'CV': 0,\n",
       " 'FN': 0,\n",
       " 'CN': 0,\n",
       " 'KB': 0,\n",
       " 'FO': 0,\n",
       " 'PO': 0,\n",
       " 'HO': 0,\n",
       " 'CK': 0,\n",
       " 'KN': 0,\n",
       " 'FS': 0,\n",
       " 'OC': 0,\n",
       " 'FV': 0,\n",
       " 'OV': 0,\n",
       " 'BN': 0,\n",
       " 'HF': 0,\n",
       " 'VC': 0,\n",
       " 'FB': 0,\n",
       " 'NN': 0,\n",
       " 'FC': 0,\n",
       " 'KS': 0}"
      ]
     },
     "execution_count": 118,
     "metadata": {},
     "output_type": "execute_result"
    }
   ],
   "source": [
    "pairs"
   ]
  },
  {
   "cell_type": "code",
   "execution_count": 119,
   "metadata": {},
   "outputs": [],
   "source": [
    "for i in range(len(initial)-1):\n",
    "    pairs[initial[i:i+2]] +=1"
   ]
  },
  {
   "cell_type": "code",
   "execution_count": 120,
   "metadata": {},
   "outputs": [
    {
     "data": {
      "text/plain": [
       "{'KC': 0,\n",
       " 'CO': 0,\n",
       " 'FH': 0,\n",
       " 'VP': 0,\n",
       " 'KF': 1,\n",
       " 'SV': 0,\n",
       " 'CB': 1,\n",
       " 'PN': 0,\n",
       " 'NC': 0,\n",
       " 'BC': 0,\n",
       " 'NP': 0,\n",
       " 'SK': 0,\n",
       " 'HS': 0,\n",
       " 'SN': 2,\n",
       " 'OP': 0,\n",
       " 'ON': 0,\n",
       " 'FK': 0,\n",
       " 'SH': 0,\n",
       " 'HN': 0,\n",
       " 'BO': 0,\n",
       " 'VK': 0,\n",
       " 'SC': 0,\n",
       " 'KP': 0,\n",
       " 'VO': 0,\n",
       " 'HC': 1,\n",
       " 'BK': 1,\n",
       " 'VH': 0,\n",
       " 'PV': 0,\n",
       " 'HB': 0,\n",
       " 'VS': 0,\n",
       " 'KK': 1,\n",
       " 'HH': 0,\n",
       " 'CF': 0,\n",
       " 'PH': 0,\n",
       " 'NS': 0,\n",
       " 'SO': 0,\n",
       " 'NV': 0,\n",
       " 'BP': 0,\n",
       " 'SF': 0,\n",
       " 'SS': 0,\n",
       " 'FP': 0,\n",
       " 'PC': 0,\n",
       " 'OH': 0,\n",
       " 'CH': 0,\n",
       " 'VV': 0,\n",
       " 'VN': 1,\n",
       " 'OB': 0,\n",
       " 'PF': 0,\n",
       " 'CS': 0,\n",
       " 'PP': 0,\n",
       " 'NF': 0,\n",
       " 'SP': 0,\n",
       " 'OS': 0,\n",
       " 'BB': 0,\n",
       " 'NO': 0,\n",
       " 'VB': 0,\n",
       " 'HK': 0,\n",
       " 'NK': 2,\n",
       " 'HP': 0,\n",
       " 'HV': 0,\n",
       " 'BF': 0,\n",
       " 'KO': 0,\n",
       " 'BV': 0,\n",
       " 'KV': 0,\n",
       " 'OF': 1,\n",
       " 'NB': 1,\n",
       " 'VF': 0,\n",
       " 'PB': 0,\n",
       " 'FF': 1,\n",
       " 'CP': 0,\n",
       " 'KH': 1,\n",
       " 'NH': 0,\n",
       " 'PS': 0,\n",
       " 'PK': 0,\n",
       " 'CC': 0,\n",
       " 'BS': 1,\n",
       " 'SB': 0,\n",
       " 'OO': 0,\n",
       " 'OK': 0,\n",
       " 'BH': 0,\n",
       " 'CV': 1,\n",
       " 'FN': 0,\n",
       " 'CN': 0,\n",
       " 'KB': 1,\n",
       " 'FO': 0,\n",
       " 'PO': 0,\n",
       " 'HO': 0,\n",
       " 'CK': 0,\n",
       " 'KN': 0,\n",
       " 'FS': 1,\n",
       " 'OC': 0,\n",
       " 'FV': 0,\n",
       " 'OV': 0,\n",
       " 'BN': 0,\n",
       " 'HF': 0,\n",
       " 'VC': 0,\n",
       " 'FB': 0,\n",
       " 'NN': 0,\n",
       " 'FC': 1,\n",
       " 'KS': 0}"
      ]
     },
     "execution_count": 120,
     "metadata": {},
     "output_type": "execute_result"
    }
   ],
   "source": [
    "pairs"
   ]
  },
  {
   "cell_type": "code",
   "execution_count": 121,
   "metadata": {},
   "outputs": [],
   "source": [
    "def take_a_step_pairs(pairs, rules):\n",
    "    output = {key: 0 for key in pairs}\n",
    "    for pair in pairs:\n",
    "        pair_count = pairs[pair]\n",
    "        new_char = rules[pair]\n",
    "        output[pair[0]+new_char] += pair_count\n",
    "        output[new_char+pair[1]] += pair_count\n",
    "        \n",
    "    return output"
   ]
  },
  {
   "cell_type": "code",
   "execution_count": 122,
   "metadata": {},
   "outputs": [],
   "source": [
    "current_pairs = pairs\n",
    "for i in range(40):\n",
    "    current_pairs = take_a_step_pairs(current_pairs,rules)"
   ]
  },
  {
   "cell_type": "code",
   "execution_count": 123,
   "metadata": {},
   "outputs": [
    {
     "data": {
      "text/plain": [
       "{'KC': 126984906237,\n",
       " 'CO': 0,\n",
       " 'FH': 268180934118,\n",
       " 'VP': 0,\n",
       " 'KF': 63491285215,\n",
       " 'SV': 220855171073,\n",
       " 'CB': 4127924079,\n",
       " 'PN': 172610265790,\n",
       " 'NC': 0,\n",
       " 'BC': 42326015687,\n",
       " 'NP': 678949944325,\n",
       " 'SK': 96281620252,\n",
       " 'HS': 0,\n",
       " 'SN': 0,\n",
       " 'OP': 475853290063,\n",
       " 'ON': 281867371886,\n",
       " 'FK': 435144063424,\n",
       " 'SH': 0,\n",
       " 'HN': 342474173671,\n",
       " 'BO': 0,\n",
       " 'VK': 0,\n",
       " 'SC': 171403695847,\n",
       " 'KP': 0,\n",
       " 'VO': 281867371886,\n",
       " 'HC': 0,\n",
       " 'BK': 8255516473,\n",
       " 'VH': 0,\n",
       " 'PV': 0,\n",
       " 'HB': 631241780963,\n",
       " 'VS': 359185734298,\n",
       " 'KK': 0,\n",
       " 'HH': 627062304483,\n",
       " 'CF': 580975376982,\n",
       " 'PH': 104629963270,\n",
       " 'NS': 66057963070,\n",
       " 'SO': 238105364068,\n",
       " 'NV': 173964938088,\n",
       " 'BP': 684809643745,\n",
       " 'SF': 79885046499,\n",
       " 'SS': 0,\n",
       " 'FP': 237918472938,\n",
       " 'PC': 52316852184,\n",
       " 'OH': 0,\n",
       " 'CH': 108766490438,\n",
       " 'VV': 361831927029,\n",
       " 'VN': 281878840466,\n",
       " 'OB': 0,\n",
       " 'PF': 86308209823,\n",
       " 'CS': 0,\n",
       " 'PP': 272784648697,\n",
       " 'NF': 245884277687,\n",
       " 'SP': 238041679080,\n",
       " 'OS': 0,\n",
       " 'BB': 1369547190421,\n",
       " 'NO': 491758273078,\n",
       " 'VB': 0,\n",
       " 'HK': 0,\n",
       " 'NK': 304548363047,\n",
       " 'HP': 0,\n",
       " 'HV': 441806472871,\n",
       " 'BF': 21162592849,\n",
       " 'KO': 0,\n",
       " 'BV': 130477046874,\n",
       " 'KV': 239799714524,\n",
       " 'OF': 390458873180,\n",
       " 'NB': 0,\n",
       " 'VF': 581003030590,\n",
       " 'PB': 1369708627887,\n",
       " 'FF': 290480144423,\n",
       " 'CP': 33026476708,\n",
       " 'KH': 268178622386,\n",
       " 'NH': 122944959894,\n",
       " 'PS': 307620857224,\n",
       " 'PK': 0,\n",
       " 'CC': 16512761713,\n",
       " 'BS': 0,\n",
       " 'SB': 21162592849,\n",
       " 'OO': 0,\n",
       " 'OK': 305089870770,\n",
       " 'BH': 1100055663268,\n",
       " 'CV': 0,\n",
       " 'FN': 563767120876,\n",
       " 'CN': 33028172958,\n",
       " 'KB': 260944347904,\n",
       " 'FO': 245884277687,\n",
       " 'PO': 255404730681,\n",
       " 'HO': 245897414401,\n",
       " 'CK': 8256139413,\n",
       " 'KN': 66057963070,\n",
       " 'FS': 200751881033,\n",
       " 'OC': 0,\n",
       " 'FV': 281878840466,\n",
       " 'OV': 305648025903,\n",
       " 'BN': 342424810472,\n",
       " 'HF': 311336791468,\n",
       " 'VC': 290495232559,\n",
       " 'FB': 42326015687,\n",
       " 'NN': 312181352669,\n",
       " 'FC': 84653878064,\n",
       " 'KS': 132118734043}"
      ]
     },
     "execution_count": 123,
     "metadata": {},
     "output_type": "execute_result"
    }
   ],
   "source": [
    "current_pairs"
   ]
  },
  {
   "cell_type": "code",
   "execution_count": 124,
   "metadata": {},
   "outputs": [],
   "source": [
    "counter = {}"
   ]
  },
  {
   "cell_type": "code",
   "execution_count": 125,
   "metadata": {},
   "outputs": [],
   "source": [
    "for pair in current_pairs:\n",
    "    counter[pair[1]] = 0\n",
    "counter[initial[0]] -= 1"
   ]
  },
  {
   "cell_type": "code",
   "execution_count": 126,
   "metadata": {},
   "outputs": [],
   "source": [
    "for pair in current_pairs:\n",
    "    counter[pair[1]] += current_pairs[pair]"
   ]
  },
  {
   "cell_type": "code",
   "execution_count": 127,
   "metadata": {},
   "outputs": [
    {
     "data": {
      "text/plain": [
       "{'C': 784693342291,\n",
       " 'O': 1758917431800,\n",
       " 'H': 2599818937857,\n",
       " 'P': 2621384155556,\n",
       " 'F': 2650985628716,\n",
       " 'V': 2156262136828,\n",
       " 'B': 3699058479790,\n",
       " 'N': 2396290071858,\n",
       " 'K': 1157575573379,\n",
       " 'S': 1065735169668}"
      ]
     },
     "execution_count": 127,
     "metadata": {},
     "output_type": "execute_result"
    }
   ],
   "source": [
    "counter"
   ]
  },
  {
   "cell_type": "code",
   "execution_count": 128,
   "metadata": {},
   "outputs": [],
   "source": [
    "counts = sorted([counter[key] for key in counter])"
   ]
  },
  {
   "cell_type": "code",
   "execution_count": 129,
   "metadata": {},
   "outputs": [
    {
     "data": {
      "text/plain": [
       "2914365137499"
      ]
     },
     "execution_count": 129,
     "metadata": {},
     "output_type": "execute_result"
    }
   ],
   "source": [
    "counts[-1]-counts[0]"
   ]
  },
  {
   "cell_type": "markdown",
   "metadata": {},
   "source": [
    "Reflection\n",
    "\n",
    "- Wow that was a doozy. Once I realized a naive brute force method wasn't going to cut it, "
   ]
  }
 ],
 "metadata": {
  "kernelspec": {
   "display_name": "Python 3",
   "language": "python",
   "name": "python3"
  },
  "language_info": {
   "codemirror_mode": {
    "name": "ipython",
    "version": 3
   },
   "file_extension": ".py",
   "mimetype": "text/x-python",
   "name": "python",
   "nbconvert_exporter": "python",
   "pygments_lexer": "ipython3",
   "version": "3.7.3"
  }
 },
 "nbformat": 4,
 "nbformat_minor": 2
}
